{
 "cells": [
  {
   "cell_type": "code",
   "execution_count": null,
   "id": "a608ba9a",
   "metadata": {
    "vscode": {
     "languageId": "plaintext"
    }
   },
   "outputs": [],
   "source": [
    "# imports & paths\n",
    "import warnings, os\n",
    "warnings.filterwarnings(\"ignore\")\n",
    "\n",
    "import numpy as np\n",
    "import pandas as pd\n",
    "import matplotlib.pyplot as plt\n",
    "\n",
    "# seaborn là optional; nếu muốn tối giản, có thể bỏ và dùng thuần matplotlib\n",
    "try:\n",
    "    import seaborn as sns\n",
    "    sns.set(style=\"whitegrid\")\n",
    "except Exception:\n",
    "    sns = None\n",
    "\n",
    "from pathlib import Path\n",
    "\n",
    "# project utils\n",
    "from src import load_config, paths, get_logger\n",
    "from src.data_loader import resolve_data_paths, load_raw_tables, clean_transactions, merge_all, feature_engineering\n",
    "\n",
    "_LOG = get_logger(\"EDA\")\n",
    "cfg = load_config(\"config/config.yaml\")\n",
    "prj = paths()\n",
    "art_dir = Path(cfg.get(\"artifacts\", {}).get(\"dir\", prj[\"artifacts_dir\"])).resolve()\n",
    "fig_dir = art_dir / \"figures\"; fig_dir.mkdir(parents=True, exist_ok=True)\n",
    "\n",
    "cfg\n"
   ]
  },
  {
   "cell_type": "code",
   "execution_count": null,
   "id": "f2420998",
   "metadata": {
    "vscode": {
     "languageId": "plaintext"
    }
   },
   "outputs": [],
   "source": [
    "# load raw\n",
    "dpaths = resolve_data_paths(cfg)\n",
    "tables = load_raw_tables(dpaths)\n",
    "for k, v in tables.items():\n",
    "    print(k, v.shape)\n",
    "tables[\"transactions\"].head(3)\n"
   ]
  },
  {
   "cell_type": "code",
   "execution_count": null,
   "id": "a5baec73",
   "metadata": {
    "vscode": {
     "languageId": "plaintext"
    }
   },
   "outputs": [],
   "source": [
    "# info & null overview\n",
    "def df_info(df: pd.DataFrame, name: str):\n",
    "    print(f\"=== {name} ===\")\n",
    "    print(df.dtypes.value_counts(), \"\\n\")\n",
    "    nulls = df.isna().mean().sort_values(ascending=False).head(20)\n",
    "    display(nulls.to_frame(\"null_ratio\"))\n",
    "\n",
    "for k in [\"transactions\",\"labels\",\"users\",\"cards\",\"merchants\"]:\n",
    "    df_info(tables[k], k)\n"
   ]
  },
  {
   "cell_type": "code",
   "execution_count": null,
   "id": "ebb46945",
   "metadata": {
    "vscode": {
     "languageId": "plaintext"
    }
   },
   "outputs": [],
   "source": [
    "# clean + merge + simple features\n",
    "tx_clean = clean_transactions(tables[\"transactions\"], cfg)\n",
    "merged = merge_all({**tables, \"transactions\": tx_clean}, cfg)\n",
    "fe = feature_engineering(merged, cfg)\n",
    "\n",
    "target = cfg.get(\"preprocess\", {}).get(\"target\", \"fraud_label\")\n",
    "dt_col = cfg.get(\"preprocess\", {}).get(\"datetime_col\", None)\n",
    "\n",
    "fe.shape, fe[target].value_counts(normalize=True)\n"
   ]
  },
  {
   "cell_type": "code",
   "execution_count": null,
   "id": "592296a3",
   "metadata": {
    "vscode": {
     "languageId": "plaintext"
    }
   },
   "outputs": [],
   "source": [
    "#  label distribution\n",
    "vc = fe[target].value_counts().sort_index()\n",
    "print(vc)\n",
    "print(vc / vc.sum())\n",
    "\n",
    "plt.figure(figsize=(4,3))\n",
    "plt.bar(vc.index.astype(str), vc.values)\n",
    "plt.title(\"Label distribution\")\n",
    "plt.xlabel(\"label\"); plt.ylabel(\"count\")\n",
    "plt.tight_layout(); plt.savefig(fig_dir / \"label_distribution.png\"); plt.show()\n"
   ]
  },
  {
   "cell_type": "code",
   "execution_count": null,
   "id": "bb5d5510",
   "metadata": {
    "vscode": {
     "languageId": "plaintext"
    }
   },
   "outputs": [],
   "source": [
    "# numeric overview\n",
    "num_cols = fe.select_dtypes(include=[np.number]).columns.tolist()\n",
    "num_cols = [c for c in num_cols if c != target]\n",
    "\n",
    "desc = fe[num_cols].describe().T\n",
    "display(desc.head(20))\n",
    "\n",
    "# histograms (top 8 numerics)\n",
    "cols_show = num_cols[:8]\n",
    "fig, axes = plt.subplots(nrows=len(cols_show), ncols=1, figsize=(6, 2.4*len(cols_show)))\n",
    "if len(cols_show) == 1: axes = [axes]\n",
    "for ax, c in zip(axes, cols_show):\n",
    "    ax.hist(fe[c].dropna(), bins=50)\n",
    "    ax.set_title(c)\n",
    "plt.tight_layout(); plt.savefig(fig_dir / \"numeric_hist.png\"); plt.show()\n",
    "\n",
    "# correlation heatmap (top 15 numerics by variance)\n",
    "top_num = fe[num_cols].var().sort_values(ascending=False).head(15).index\n",
    "corr = fe[top_num].corr()\n",
    "plt.figure(figsize=(7,6))\n",
    "if sns is not None:\n",
    "    sns.heatmap(corr, annot=False, cmap=\"viridis\")\n",
    "else:\n",
    "    plt.imshow(corr.values); plt.xticks(range(len(top_num)), top_num, rotation=90); plt.yticks(range(len(top_num)), top_num)\n",
    "plt.title(\"Correlation (top numeric)\")\n",
    "plt.tight_layout(); plt.savefig(fig_dir / \"corr_heatmap.png\"); plt.show()\n"
   ]
  },
  {
   "cell_type": "code",
   "execution_count": null,
   "id": "5048aec9",
   "metadata": {
    "vscode": {
     "languageId": "plaintext"
    }
   },
   "outputs": [],
   "source": [
    "#  categorical overview\n",
    "cat_cols = fe.select_dtypes(include=[\"object\",\"category\"]).columns.tolist()\n",
    "top_show = {}\n",
    "for c in cat_cols[:10]:\n",
    "    vc = fe[c].value_counts().head(10)\n",
    "    top_show[c] = vc\n",
    "\n",
    "# hiển thị top 5 cột đầu\n",
    "for i, (c, vc) in enumerate(top_show.items()):\n",
    "    print(f\"\\n== {c} ==\")\n",
    "    display(vc.to_frame(\"count\"))\n",
    "    if i >= 4: break\n"
   ]
  },
  {
   "cell_type": "code",
   "execution_count": null,
   "id": "8af7cdd4",
   "metadata": {
    "vscode": {
     "languageId": "plaintext"
    }
   },
   "outputs": [],
   "source": [
    "# amount vs label\n",
    "if \"amount\" in fe.columns:\n",
    "    plt.figure(figsize=(5,3))\n",
    "    for lab in [0,1]:\n",
    "        vals = fe.loc[fe[target]==lab, \"amount\"].clip(lower=0)\n",
    "        plt.hist(np.log1p(vals), bins=60, alpha=0.6, label=f\"label={lab}\")\n",
    "    plt.xlabel(\"log1p(amount)\"); plt.ylabel(\"count\"); plt.legend()\n",
    "    plt.title(\"Amount distribution by label\")\n",
    "    plt.tight_layout(); plt.savefig(fig_dir / \"amount_by_label.png\"); plt.show()\n",
    "\n",
    "# time-based\n",
    "if dt_col and dt_col in fe.columns and pd.api.types.is_datetime64_any_dtype(fe[dt_col]):\n",
    "    fe[\"hour\"] = fe[dt_col].dt.hour\n",
    "    fe[\"dow\"]  = fe[dt_col].dt.dayofweek\n",
    "\n",
    "    fig, axes = plt.subplots(1,2, figsize=(10,3))\n",
    "    for lab in [0,1]:\n",
    "        axes[0].plot(fe.loc[fe[target]==lab,\"hour\"].value_counts().sort_index(), label=f\"label={lab}\")\n",
    "        axes[1].plot(fe.loc[fe[target]==lab,\"dow\"].value_counts().sort_index(), label=f\"label={lab}\")\n",
    "    axes[0].set_title(\"Transactions by Hour\"); axes[0].set_xlabel(\"hour\")\n",
    "    axes[1].set_title(\"Transactions by DayOfWeek\"); axes[1].set_xlabel(\"0=Mon\")\n",
    "    axes[0].legend(); axes[1].legend()\n",
    "    plt.tight_layout(); plt.savefig(fig_dir / \"time_by_label.png\"); plt.show()\n"
   ]
  },
  {
   "cell_type": "code",
   "execution_count": null,
   "id": "cb646777",
   "metadata": {
    "vscode": {
     "languageId": "plaintext"
    }
   },
   "outputs": [],
   "source": [
    "# merchant & card view\n",
    "mcc_col = next((c for c in [\"mcc\",\"merchant_category\",\"mcc_code\"] if c in fe.columns), None)\n",
    "if mcc_col:\n",
    "    top_mcc = fe[mcc_col].value_counts().head(15).index\n",
    "    df_mcc = fe[fe[mcc_col].isin(top_mcc)].groupby([mcc_col])[target].mean().sort_values(ascending=False)\n",
    "    display(df_mcc.to_frame(\"fraud_rate\").head(10))\n",
    "    plt.figure(figsize=(7,3))\n",
    "    df_mcc.plot(kind=\"bar\")\n",
    "    plt.ylabel(\"fraud_rate\"); plt.tight_layout(); plt.savefig(fig_dir / \"mcc_fraud_rate.png\"); plt.show()\n",
    "\n",
    "card_id = next((c for c in [\"card_id\",\"cardId\",\"pan_id\"] if c in fe.columns), None)\n",
    "if card_id:\n",
    "    card_rate = fe.groupby(card_id)[target].mean()\n",
    "    print(\"Card-level fraud rate (top 10):\")\n",
    "    display(card_rate.sort_values(ascending=False).head(10).to_frame(\"fraud_rate\"))\n"
   ]
  },
  {
   "cell_type": "code",
   "execution_count": null,
   "id": "77c0ce68",
   "metadata": {
    "vscode": {
     "languageId": "plaintext"
    }
   },
   "outputs": [],
   "source": [
    "# missingness heatmap (top 30)\n",
    "missing_ratio = fe.isna().mean().sort_values(ascending=False)\n",
    "cols = missing_ratio.head(30).index.tolist()\n",
    "plt.figure(figsize=(8, 6))\n",
    "if sns is not None:\n",
    "    sns.heatmap(fe[cols].isna(), cbar=False)\n",
    "else:\n",
    "    plt.imshow(fe[cols].isna(), aspect=\"auto\")\n",
    "plt.title(\"Missingness (top 30 columns)\")\n",
    "plt.tight_layout(); plt.savefig(fig_dir / \"missingness_heatmap.png\"); plt.show()\n"
   ]
  },
  {
   "cell_type": "code",
   "execution_count": null,
   "id": "42f57701",
   "metadata": {
    "vscode": {
     "languageId": "plaintext"
    }
   },
   "outputs": [],
   "source": [
    "# quick report summary\n",
    "report = {\n",
    "    \"n_rows\": int(len(fe)),\n",
    "    \"n_cols\": int(fe.shape[1]),\n",
    "    \"target\": target,\n",
    "    \"fraud_ratio\": float((fe[target]==1).mean()),\n",
    "    \"n_numeric\": int(len(fe.select_dtypes(include=[np.number]).columns)),\n",
    "    \"n_categorical\": int(len(fe.select_dtypes(include=['object','category']).columns)),\n",
    "    \"datetime_col\": dt_col,\n",
    "    \"figures_dir\": str(fig_dir),\n",
    "}\n",
    "print(report)\n",
    "\n",
    "(art_dir / \"eda_summary.json\").write_text(\n",
    "    pd.io.json.dumps(report, indent=2), encoding=\"utf-8\"\n",
    ")\n"
   ]
  }
 ],
 "metadata": {
  "language_info": {
   "name": "python"
  }
 },
 "nbformat": 4,
 "nbformat_minor": 5
}
